{
 "cells": [
  {
   "cell_type": "markdown",
   "metadata": {},
   "source": [
    "# Searching techniques explained with time complexities"
   ]
  },
  {
   "cell_type": "raw",
   "metadata": {},
   "source": [
    "╔══════════════════╦═════════════════╗\n",
    "║       Name       ║ Time Complexity ║\n",
    "╠══════════════════╬═════════════════╣\n",
    "║ Constant Time    ║       O(1)      ║\n",
    "╠══════════════════╬═════════════════╣\n",
    "║ Logarithmic Time ║     O(log n)    ║\n",
    "╠══════════════════╬═════════════════╣\n",
    "║ Linear Time      ║       O(n)      ║\n",
    "╠══════════════════╬═════════════════╣\n",
    "║ Quasilinear Time ║    O(n log n)   ║\n",
    "╠══════════════════╬═════════════════╣\n",
    "║ Quadratic Time   ║      O(n^2)     ║\n",
    "╠══════════════════╬═════════════════╣\n",
    "║ Exponential Time ║      O(2^n)     ║\n",
    "╠══════════════════╬═════════════════╣\n",
    "║ Factorial Time   ║       O(n!)     ║\n",
    "╚══════════════════╩═════════════════╝\n",
    "\n",
    "index starts from 0\n",
    "list should be sorted"
   ]
  },
  {
   "cell_type": "code",
   "execution_count": 1,
   "metadata": {},
   "outputs": [
    {
     "name": "stdout",
     "output_type": "stream",
     "text": [
      "Enter # of elements3\n",
      "Enter the elements\n",
      "2\n",
      "3\n",
      "5\n",
      "enter element to find 5\n"
     ]
    }
   ],
   "source": [
    "#Driver code\n",
    "n = int(input(\"Enter # of elements\"))\n",
    "arr = []\n",
    "print(\"Enter the elements\")\n",
    "for _ in range(n):\n",
    "    arr.append(int(input()))\n",
    "\n",
    "find = (int(input(\"enter element to find \")))"
   ]
  },
  {
   "cell_type": "markdown",
   "metadata": {},
   "source": [
    "# Linear Search\n",
    "traversing whole list in a linear fashion to find index of required element, if multiple elements it gives the index of first element."
   ]
  },
  {
   "cell_type": "code",
   "execution_count": 2,
   "metadata": {},
   "outputs": [
    {
     "name": "stdout",
     "output_type": "stream",
     "text": [
      "Element is present at index  2\n"
     ]
    }
   ],
   "source": [
    "#This is best possible method, in cases where each and every value has to be examined in the given input data.\n",
    "#This method has linear time complexity, because with the size of input  running time increases at most linearly. \n",
    "def linear_search(n,arr,find):\n",
    "    for i in range(n):\n",
    "        if(arr[i]==find):\n",
    "            return i;   \n",
    "    return -1;\n",
    "result = linear_search(n,arr,find)\n",
    "if result != -1: \n",
    "    print (\"Element is present at index % d\" % result) \n",
    "else: \n",
    "    print (\"Element is not present\")"
   ]
  },
  {
   "cell_type": "markdown",
   "metadata": {},
   "source": [
    "# Binary Search\n",
    "A sorted list is breaked down in half and traversing starts on comparing the find element and the mid element, if the mid element is greater than the find element then traversing would start after the mid element i.e., towards its right. If the find element is less than the find element then the traversing starts from the left of it."
   ]
  },
  {
   "cell_type": "code",
   "execution_count": 3,
   "metadata": {},
   "outputs": [
    {
     "name": "stdout",
     "output_type": "stream",
     "text": [
      "5 was found at index 2.\n"
     ]
    }
   ],
   "source": [
    "def binary_search(arr, find):\n",
    "    start = 0\n",
    "    end = len(arr)\n",
    "    while start < end:\n",
    "        mid = (start + end)//2\n",
    "        if arr[mid] > find:\n",
    "            end = mid\n",
    "        elif arr[mid] < find:\n",
    "            start = mid + 1\n",
    "        else:\n",
    "            return mid\n",
    "    return -1\n",
    "\n",
    "index = binary_search(arr, find)\n",
    "if index < 0:\n",
    "    print('{} was not found.'.format(find))\n",
    "else:\n",
    "    print('{} was found at index {}.'.format(find, index))"
   ]
  },
  {
   "cell_type": "markdown",
   "metadata": {},
   "source": [
    "# Recurssive Binary Search"
   ]
  },
  {
   "cell_type": "code",
   "execution_count": 4,
   "metadata": {},
   "outputs": [],
   "source": [
    "def binarySearch( arr, l, r, x): \n",
    "    if r >= l: \n",
    "        mid = int(l + ( r-l ) / 2)\n",
    "          \n",
    "        # If the element is present at the middle itself \n",
    "        if arr[mid] == x: \n",
    "            return mid \n",
    "          \n",
    "        # If the element is smaller than mid,  \n",
    "        # then it can only be present in the  \n",
    "        # left subarray \n",
    "        if arr[mid] > x: \n",
    "            return binarySearch(arr, l,  \n",
    "                                mid - 1, x) \n",
    "          \n",
    "        # Else element can only be  present in the right \n",
    "        return binarySearch(arr, mid + 1, r, x) \n",
    "          \n",
    "    #if the element is not present \n",
    "    return -1"
   ]
  },
  {
   "cell_type": "markdown",
   "metadata": {},
   "source": [
    "# Jump Search\n",
    "1) Works only on sorted lists 2) best step size is sqrt(total size) 3) Time complexity is between Linear Search ((O(n))) and binary searcg (O (log n)) "
   ]
  },
  {
   "cell_type": "code",
   "execution_count": 5,
   "metadata": {},
   "outputs": [
    {
     "name": "stdout",
     "output_type": "stream",
     "text": [
      "Element found at index 2\n"
     ]
    }
   ],
   "source": [
    "import math\n",
    "\n",
    "def jump_search(arr,find):\n",
    "    low = 0\n",
    "    tot_size = len(arr)\n",
    "    block_size = int(math.sqrt(tot_size))\n",
    "    for i in range (0,tot_size,block_size):\n",
    "        if(arr[i]==find):\n",
    "            return i\n",
    "        elif(arr[i]<find):\n",
    "            low = i\n",
    "        else:\n",
    "            break\n",
    "    restart = low\n",
    "    for i in range(low, tot_size):\n",
    "        if arr[i] == find:\n",
    "            return i\n",
    "        restart = restart+1\n",
    "    return -1\n",
    "\n",
    "res = jump_search(arr,find)\n",
    "if(res == -1):\n",
    "    print(\"Element not found\")\n",
    "else:\n",
    "    print(\"Element found at index\", res)"
   ]
  },
  {
   "cell_type": "markdown",
   "metadata": {},
   "source": [
    "# Interpolation Search\n",
    "\n",
    "pos = lo + [ (find-arr[lo])*(hi-lo) / (arr[hi]-arr[lo]) ]\n",
    "<br>\n",
    "If elements are uniformly distributed, then O (log log n)). In worst case it can take upto O(n)."
   ]
  },
  {
   "cell_type": "code",
   "execution_count": 6,
   "metadata": {},
   "outputs": [
    {
     "name": "stdout",
     "output_type": "stream",
     "text": [
      "Element found at index 2\n"
     ]
    }
   ],
   "source": [
    "# If find_element is present in arr[0..n-1], then returns index of it, else returns -1 \n",
    "def interpolationSearch(arr, find_ele): \n",
    "    # Find indexs of two corners \n",
    "    lo = 0\n",
    "    hi = int(len(arr) - 1 )\n",
    "   \n",
    "    while lo <= hi and find_ele >= arr[lo] and find_ele <= arr[hi]: \n",
    "        if lo == hi: \n",
    "            if arr[lo] == find_ele:  \n",
    "                return lo; \n",
    "            return -1; \n",
    "          \n",
    "        pos = int(lo + ((find_ele-arr[lo])*(hi-lo) / (arr[hi]-arr[lo])) )\n",
    "#         print(pos)\n",
    "        # Condition of target found \n",
    "        if arr[pos] == find_ele: \n",
    "            return pos \n",
    "   \n",
    "        # If find_ele is larger, find_ele is in upper part \n",
    "        if arr[pos] < find_ele: \n",
    "            lo = pos + 1; \n",
    "   \n",
    "        # If find_ele is smaller, find_ele is in lower part \n",
    "        else: \n",
    "            hi = pos - 1; \n",
    "    return -1\n",
    "result = interpolationSearch(arr, find) \n",
    "  \n",
    "if result != -1: \n",
    "    print (\"Element found at index\",result) \n",
    "else: \n",
    "    print (\"Element not found\")"
   ]
  },
  {
   "cell_type": "markdown",
   "metadata": {},
   "source": [
    "# Exponential Search\n",
    "Exponential search involves two steps: <br>\n",
    "1. Find range where element is present<br>\n",
    "2. Do Binary Search in above found range.\n",
    "<br>\n",
    "Time Complexity : O(Log n)"
   ]
  },
  {
   "cell_type": "code",
   "execution_count": 7,
   "metadata": {},
   "outputs": [
    {
     "name": "stdout",
     "output_type": "stream",
     "text": [
      "Element is present at index  2\n"
     ]
    }
   ],
   "source": [
    " def exponentialSearch(arr, find): \n",
    "    # If find is present at first, returns index itself \n",
    "    n = len(arr)\n",
    "    if arr[0] == find: \n",
    "        return 0\n",
    "          \n",
    "    # Find range for binary search, j by repeated doubling \n",
    "    i = 1\n",
    "    while i < n and arr[i] <= find: \n",
    "        i = i * 2\n",
    "    # Call binary search for the found range \n",
    "    return binarySearch( arr, i / 2,   min(i, n), find) \n",
    "\n",
    "result = exponentialSearch(arr, find) \n",
    "\n",
    "if result == -1: \n",
    "    print (\"Element not found in thye array\")\n",
    "else: \n",
    "    print (\"Element is present at index \" , result)\n"
   ]
  }
 ],
 "metadata": {
  "kernelspec": {
   "display_name": "Python 3",
   "language": "python",
   "name": "python3"
  },
  "language_info": {
   "codemirror_mode": {
    "name": "ipython",
    "version": 3
   },
   "file_extension": ".py",
   "mimetype": "text/x-python",
   "name": "python",
   "nbconvert_exporter": "python",
   "pygments_lexer": "ipython3",
   "version": "3.7.2"
  }
 },
 "nbformat": 4,
 "nbformat_minor": 2
}
